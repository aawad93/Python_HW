{
 "cells": [
  {
   "cell_type": "code",
   "execution_count": 1,
   "metadata": {},
   "outputs": [],
   "source": [
    "# Import Pandas and os\n",
    "import pandas as pd \n",
    "import os "
   ]
  },
  {
   "cell_type": "code",
   "execution_count": 2,
   "metadata": {},
   "outputs": [],
   "source": [
    "# Open csv file\n",
    "csv_path = os.path.join(\"Resources\", \"election_data.csv\")"
   ]
  },
  {
   "cell_type": "code",
   "execution_count": 3,
   "metadata": {},
   "outputs": [],
   "source": [
    "# Read csv file\n",
    "PyPoll_df = pd.read_csv(csv_path)"
   ]
  },
  {
   "cell_type": "code",
   "execution_count": 4,
   "metadata": {},
   "outputs": [],
   "source": [
    "# Create Variables to hold series for results breakdown\n",
    "Candidate_Votes = pd.Series()\n",
    "Candidate_Votes_Perc = pd.Series()"
   ]
  },
  {
   "cell_type": "code",
   "execution_count": 5,
   "metadata": {},
   "outputs": [],
   "source": [
    "# Calculate total count of rows and assign to variable \n",
    "Total_Votes = PyPoll_df[\"Candidate\"].count()"
   ]
  },
  {
   "cell_type": "code",
   "execution_count": 6,
   "metadata": {},
   "outputs": [],
   "source": [
    "# Calculate counts of each value and assign to variable\n",
    "Candidate_Votes = PyPoll_df[\"Candidate\"].value_counts()"
   ]
  },
  {
   "cell_type": "code",
   "execution_count": 33,
   "metadata": {},
   "outputs": [],
   "source": [
    "# Caluclate percentage for each candidate and assign to variable\n",
    "Candidate_Votes_Perc = Candidate_Votes/Total_Votes*100"
   ]
  },
  {
   "cell_type": "code",
   "execution_count": 34,
   "metadata": {},
   "outputs": [],
   "source": [
    "# Combine the two series to show votes and percentage \n",
    "Candidate_Summary = pd.concat([Candidate_Votes, Candidate_Votes_Perc], axis = 1)"
   ]
  },
  {
   "cell_type": "code",
   "execution_count": 35,
   "metadata": {},
   "outputs": [],
   "source": [
    "Winner = Candidate_Votes.idxmax()"
   ]
  },
  {
   "cell_type": "code",
   "execution_count": 36,
   "metadata": {},
   "outputs": [
    {
     "name": "stdout",
     "output_type": "stream",
     "text": [
      "\n",
      "Election Results\n",
      "-------------------------\n",
      "Total Votes: 3521001\n",
      "-------------------------\n",
      "          Candidate  Candidate\n",
      "Khan        2218231  63.000011\n",
      "Correy       704200  19.999994\n",
      "Li           492940  13.999996\n",
      "O'Tooley     105630   2.999999\n",
      "-------------------------\n",
      "Winner: Khan\n",
      "-------------------------\n",
      "\n"
     ]
    }
   ],
   "source": [
    "# Print put results \n",
    "print(f\"\"\"\n",
    "Election Results\n",
    "-------------------------\n",
    "Total Votes: {Total_Votes}\n",
    "-------------------------\n",
    "{Candidate_Summary}\n",
    "-------------------------\n",
    "Winner: {Winner}\n",
    "-------------------------\n",
    "\"\"\")"
   ]
  },
  {
   "cell_type": "code",
   "execution_count": 32,
   "metadata": {},
   "outputs": [],
   "source": [
    "# Export results to text file \n",
    "with open(\"PyPoll_Results.txt\", \"w\") as text_file:\n",
    "    text_file.write(f\"\"\"\n",
    "Election Results\n",
    "-------------------------\n",
    "Total Votes: {Total_Votes}\n",
    "-------------------------\n",
    "{Candidate_Summary}\n",
    "-------------------------\n",
    "Winner: {Winner}\n",
    "-------------------------\n",
    "\"\"\")"
   ]
  },
  {
   "cell_type": "code",
   "execution_count": null,
   "metadata": {},
   "outputs": [],
   "source": []
  }
 ],
 "metadata": {
  "kernelspec": {
   "display_name": "Python 3",
   "language": "python",
   "name": "python3"
  },
  "language_info": {
   "codemirror_mode": {
    "name": "ipython",
    "version": 3
   },
   "file_extension": ".py",
   "mimetype": "text/x-python",
   "name": "python",
   "nbconvert_exporter": "python",
   "pygments_lexer": "ipython3",
   "version": "3.7.3"
  }
 },
 "nbformat": 4,
 "nbformat_minor": 2
}
